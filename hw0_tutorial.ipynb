{
 "cells": [
  {
   "cell_type": "markdown",
   "metadata": {
    "cell_id": "3828e36c66cb4d5dafeb30091b7dab9c",
    "deepnote_cell_type": "markdown"
   },
   "source": [
    "# Tutorial: Simple Fishing Game\n",
    "\n",
    "To get you started, I defined a super-simple fishing game, based on the first three locations\n",
    "in __Action Castle__, which is a text adventure game in a fun book by Jared A. Sorensen called\n",
    "[Parsley](http://www.memento-mori.com/parsely-products/parsely-pdf).\n",
    "\n",
    "\n",
    "<img src=\"tutorial-map.png\" width=\"500\"/>\n",
    "\n",
    "\n",
    "\n",
    "The goal of this game is simple: help your character find some food to eat because they are hungry!"
   ]
  },
  {
   "cell_type": "markdown",
   "metadata": {
    "cell_id": "1e91b98e6c76450dbd47cc339bd9f359",
    "deepnote_cell_type": "markdown"
   },
   "source": [
    "## The Text Adventures Library\n",
    "\n",
    "We will be using a framework designed for this class called _Text Adventures_, which is included in this repo.\n",
    "\n",
    "### High-Level\n",
    "\n",
    "The main concepts we are concerned with when building a game with Text Adventures are:\n",
    "\n",
    "* Things: _locations, items, and characters_\n",
    "* Actions: things a character can do\n",
    "* Blocks: things that prevent a character from going somewhere\n",
    "* Commands: how a user interacts with the game\n",
    "\n",
    "### Things\n",
    "\n",
    "_Things_ can have _properties_. A property is some detail about the thing that influences how other things can interact with it. A poisonous potion might have the property `is_poisonous` set, or a locked door might have `is_locked` set. Properties are designed to be flexible and easily extensible without significant code changes.\n",
    "\n",
    "_Things_ can also have commands associated with them. A rosebush might have a command that lets characters pick a rose from the bush, and that rose might have a command for smelling it.\n",
    "\n",
    "All _things_ are stored in `text_adventures.things`.\n",
    "\n",
    "### Actions\n",
    "\n",
    "An action is something a user does to change the game's state, such as changing location, eating food, or attacking something.\n",
    "\n",
    "When a user enters a command, the game will parse the command to determine its intent and route it to the appropriate action. This means a user can type _go west_ and the game will work out that this means `text_adventures.actions.Go` and it will determine if the character can move west based on where the character is.\n",
    "\n",
    "The game's state might change each time an action is executed, so action instances are created for each command and the game's state is re-evaluated to determine if the action will be successful or fail.\n",
    "\n",
    "### Blocks\n",
    "\n",
    "Blocks are useful for implementing things like a locked door or if some direction is guarded by a monster.\n",
    "\n",
    "If a user attempts to enter a location that is blocked from where they are, the command will fail with some information about why. It's up to the game designer as to whether or not a block can be removed."
   ]
  },
  {
   "cell_type": "markdown",
   "metadata": {
    "cell_id": "0d056002dbbe4f66b3dc4701739cd7e4",
    "deepnote_cell_type": "text-cell-h3",
    "formattedRanges": []
   },
   "source": [
    "### Install required libraries"
   ]
  },
  {
   "cell_type": "code",
   "execution_count": 1,
   "metadata": {
    "cell_id": "5143b0bda2024676b889abb08633dbb1",
    "deepnote_cell_type": "code",
    "execution_context_id": "23b03909-f712-45f3-a602-e91fab9d1fd2",
    "execution_millis": 2869,
    "execution_start": 1756843027419,
    "source_hash": "7958d4a9"
   },
   "outputs": [
    {
     "name": "stdout",
     "output_type": "stream",
     "text": [
      "Collecting graphviz (from -r requirements.txt (line 1))\n",
      "  Downloading graphviz-0.21-py3-none-any.whl.metadata (12 kB)\n",
      "Collecting setuptools (from -r requirements.txt (line 2))\n",
      "  Downloading setuptools-80.9.0-py3-none-any.whl.metadata (6.6 kB)\n",
      "Downloading graphviz-0.21-py3-none-any.whl (47 kB)\n",
      "Downloading setuptools-80.9.0-py3-none-any.whl (1.2 MB)\n",
      "\u001b[2K   \u001b[90m━━━━━━━━━━━━━━━━━━━━━━━━━━━━━━━━━━━━━━━━\u001b[0m \u001b[32m1.2/1.2 MB\u001b[0m \u001b[31m11.5 MB/s\u001b[0m eta \u001b[36m0:00:00\u001b[0m\n",
      "\u001b[?25hInstalling collected packages: setuptools, graphviz\n",
      "Successfully installed graphviz-0.21 setuptools-80.9.0\n",
      "\n",
      "\u001b[1m[\u001b[0m\u001b[34;49mnotice\u001b[0m\u001b[1;39;49m]\u001b[0m\u001b[39;49m A new release of pip is available: \u001b[0m\u001b[31;49m24.2\u001b[0m\u001b[39;49m -> \u001b[0m\u001b[32;49m25.2\u001b[0m\n",
      "\u001b[1m[\u001b[0m\u001b[34;49mnotice\u001b[0m\u001b[1;39;49m]\u001b[0m\u001b[39;49m To update, run: \u001b[0m\u001b[32;49mpip install --upgrade pip\u001b[0m\n"
     ]
    }
   ],
   "source": [
    "!pip install -r requirements.txt"
   ]
  },
  {
   "cell_type": "markdown",
   "metadata": {
    "cell_id": "2f11cf9846944441b92a8d660a4011cf",
    "deepnote_cell_type": "markdown"
   },
   "source": [
    "### Import Text Adventures"
   ]
  },
  {
   "cell_type": "code",
   "execution_count": 2,
   "metadata": {
    "cell_id": "f41d55050df641a2953803bbe48604b9",
    "deepnote_cell_type": "code",
    "execution_context_id": "23b03909-f712-45f3-a602-e91fab9d1fd2",
    "execution_millis": 207,
    "execution_start": 1756843033234,
    "source_hash": "fa5fedf1"
   },
   "outputs": [],
   "source": [
    "# If a folder has a \"__init__.py\" in it, even if that is empty, Python treats it as a package\n",
    "# Inside that package:\n",
    "    # a .py file is a treated as a Module \n",
    "    # a folder with its own \"__init__.py\" file is a subpackage\n",
    "from text_adventure_games import (\n",
    "    games, parsing, actions, things, blocks, viz\n",
    ")"
   ]
  },
  {
   "cell_type": "markdown",
   "metadata": {
    "cell_id": "53ac7d0c1fdd447b943d83b236051073",
    "deepnote_cell_type": "markdown"
   },
   "source": [
    "## Locations\n",
    "\n",
    "A location is a place that characters can go to. Locations can be connected to other locations, creating a graph of places to visit, eg. the game map."
   ]
  },
  {
   "cell_type": "markdown",
   "metadata": {
    "cell_id": "a14eda519e9246609d1bbc3354c4dcab",
    "deepnote_cell_type": "markdown"
   },
   "source": [
    "The 3 locations from **Action Castle** are:\n",
    "\n",
    "* a cottage, your home\n",
    "* a garden path\n",
    "* a pond where you can fish to the south"
   ]
  },
  {
   "cell_type": "code",
   "execution_count": 3,
   "metadata": {
    "cell_id": "a21db1a3614b4b49828a1f74a6afd5be",
    "deepnote_cell_type": "code",
    "execution_context_id": "23b03909-f712-45f3-a602-e91fab9d1fd2",
    "execution_millis": 1,
    "execution_start": 1756843037477,
    "source_hash": "2bc7049d"
   },
   "outputs": [],
   "source": [
    "cottage = things.Location(\n",
    "    \"Cottage\",\n",
    "    \"You are standing in a small cottage.\"\n",
    ")\n",
    "\n",
    "garden_path = things.Location(\n",
    "    \"Garden Path\",\n",
    "    \"You are standing on a lush garden path. There is a cottage here.\",\n",
    ")\n",
    "\n",
    "fishing_pond = things.Location(\n",
    "    \"Fishing Pond\",\n",
    "    \"You are at the edge of a small fishing pond.\"\n",
    ")"
   ]
  },
  {
   "cell_type": "markdown",
   "metadata": {
    "cell_id": "5ac8216d1cf4467b8bd70d1ee3fdc069",
    "deepnote_cell_type": "markdown"
   },
   "source": [
    "We'll also add a 4th location, a cliff. If the player visits the cliff, they will fall off and that will end the game, so be careful!\n",
    "\n",
    "**Note**: the `game_over` property is set on the cliff."
   ]
  },
  {
   "cell_type": "code",
   "execution_count": 4,
   "metadata": {
    "cell_id": "e19986077ee74491b08701e7e133e84e",
    "deepnote_cell_type": "code",
    "execution_context_id": "23b03909-f712-45f3-a602-e91fab9d1fd2",
    "execution_millis": 3,
    "execution_start": 1756843040114,
    "source_hash": "cceba6fe"
   },
   "outputs": [],
   "source": [
    "cliff = things.Location(\n",
    "    \"Cliff\",\n",
    "    \"There is a steep cliff here. You fall off the cliff and lose the game. THE END\",\n",
    ")\n",
    "cliff.set_property(\"game_over\", True)  # RIP 🪦☠️"
   ]
  },
  {
   "cell_type": "markdown",
   "metadata": {
    "cell_id": "790c839b8a8c4d7da5f911559e661bec",
    "deepnote_cell_type": "markdown"
   },
   "source": [
    "### Connecting Locations"
   ]
  },
  {
   "cell_type": "markdown",
   "metadata": {
    "cell_id": "283ff6eda8f740a2a61162ccc190adba",
    "deepnote_cell_type": "markdown"
   },
   "source": [
    "From the cottage you can go _out_ to the garden path, and from there you can go _west_ to a cliff or _south_ to a fishing pond.\n"
   ]
  },
  {
   "cell_type": "code",
   "execution_count": 5,
   "metadata": {
    "cell_id": "40250728c2824452b3b1483171231b59",
    "deepnote_cell_type": "code"
   },
   "outputs": [],
   "source": [
    "# Cottage -> Garden Path\n",
    "cottage.add_connection(\"out\", garden_path)\n",
    "\n",
    "# Garden Path -> Fishing Pond\n",
    "garden_path.add_connection(\"south\", fishing_pond)\n",
    "\n",
    "# Garden Path -> Cliff\n",
    "garden_path.add_connection(\"east\", cliff)"
   ]
  },
  {
   "cell_type": "markdown",
   "metadata": {
    "cell_id": "9665500cb40441eeaa5de85ea152ca0a",
    "deepnote_cell_type": "markdown"
   },
   "source": [
    "**NOTE**: Being able to go _out_ implies that you can also go _in_ from the other direction. The Text Adventures framework will account for that automatically when you use one of the following pairs:\n",
    "\n",
    "* north/south\n",
    "* east/west\n",
    "* up/down\n",
    "* in/out\n",
    "* inside/outside"
   ]
  },
  {
   "cell_type": "markdown",
   "metadata": {
    "cell_id": "02fdd444e16a4d24a9b133e66a513780",
    "deepnote_cell_type": "markdown"
   },
   "source": [
    "## Items\n",
    "\n",
    "Items can be placed at locations or they can be placed in a character's inventory. Any details about the item that may be interesting should be added as properties."
   ]
  },
  {
   "cell_type": "markdown",
   "metadata": {
    "cell_id": "1f086ed156e54ecc9fc23fe68a6ca425",
    "deepnote_cell_type": "markdown"
   },
   "source": [
    "### Gettable Items\n",
    "\n",
    "A _gettable_ item is an item that a character can put in their inventory using the _get_ command."
   ]
  },
  {
   "cell_type": "code",
   "execution_count": 6,
   "metadata": {
    "cell_id": "1c7fa654ed6b442caa444497d16879f5",
    "deepnote_cell_type": "code"
   },
   "outputs": [],
   "source": [
    "# Put a fishing pole in the cottage\n",
    "fishing_pole = things.Item(\n",
    "    \"pole\",\n",
    "    \"a fishing pole\",\n",
    "    \"A SIMPLE FISHING POLE.\",\n",
    ")\n",
    "cottage.add_item(fishing_pole)\n",
    "\n",
    "# Put a deadly potion in the cottage\n",
    "potion = things.Item(\n",
    "    \"potion\",\n",
    "    \"a poisonous potion\",\n",
    "    \"IT'S BRIGHT GREEN AND STEAMING.\",\n",
    ")\n",
    "\n",
    "potion.set_property(\"is_drink\", True)\n",
    "potion.set_property(\"is_poisonous\", True)\n",
    "potion.add_command_hint(\"drink potion\")\n",
    "cottage.add_item(potion) "
   ]
  },
  {
   "cell_type": "markdown",
   "metadata": {
    "cell_id": "d44cffc1122f470d86134e81c880f6b5",
    "deepnote_cell_type": "markdown"
   },
   "source": [
    "### Non-gettable Items\n",
    "\n",
    "Non-gettable items are things that exist at locations but can't be picked up, like a pond. Notice that the `gettable` property is set to False."
   ]
  },
  {
   "cell_type": "code",
   "execution_count": 7,
   "metadata": {
    "cell_id": "9295ca952f374a6c9e5502eaf40867f4",
    "deepnote_cell_type": "code"
   },
   "outputs": [],
   "source": [
    "# Put an actual pond as an item at the fishing pond location\n",
    "# Making the Item \n",
    "pond = things.Item(\n",
    "    \"pond\",\n",
    "    \"a small fishing pond\",\n",
    "    \"THERE ARE FISH IN THE POND.\",\n",
    ")\n",
    "pond.set_property(\"gettable\", False)\n",
    "pond.set_property(\"has_fish\", True)\n",
    "pond.add_command_hint(\"catch fish\")\n",
    "pond.add_command_hint(\"catch fish with pole\")\n",
    "# Adding to fishing pond\n",
    "fishing_pond.add_item(pond)\n",
    "\n",
    "\n",
    "# Put a rosebush as an item in the garden\n",
    "\n",
    "# Making the Item \n",
    "rosebush = things.Item(\n",
    "    \"rosebush\",\n",
    "    \"a rosebush\",\n",
    "    \"THE ROSEBUSH CONTAINS A SINGLE RED ROSE.  IT IS BEAUTIFUL.\",\n",
    ")\n",
    "rosebush.set_property(\"gettable\", False)\n",
    "rosebush.set_property(\"has_rose\", True)\n",
    "rosebush.add_command_hint(\"pick rose\")\n",
    "# Adding to fishing pond\n",
    "garden_path.add_item(rosebush)\n"
   ]
  },
  {
   "cell_type": "markdown",
   "metadata": {
    "cell_id": "28760d4068324af7b6fd640ddae2e6e3",
    "deepnote_cell_type": "markdown"
   },
   "source": [
    "## Characters\n",
    "\n",
    "A character is some living thing that can perform actions, such as your player, or maybe a mean troll, or perhaps a princess. They can have properties applied to them too, which we'll see when the game sets `is_hungry` on our player below.\n",
    "\n",
    "In later homeworks we will develop characters more fully so that you can interact with them and they have their own goals and pursue their own interests in the game."
   ]
  },
  {
   "cell_type": "code",
   "execution_count": 8,
   "metadata": {
    "cell_id": "474b55a42a954eda8ea3509abe4b907e",
    "deepnote_cell_type": "code"
   },
   "outputs": [],
   "source": [
    "player = things.Character(\n",
    "    name=\"The player\",\n",
    "    description=\"You are a simple peasant destined for greatness.\",\n",
    "    persona=\"I am on an adventure.\",\n",
    ")\n"
   ]
  },
  {
   "cell_type": "markdown",
   "metadata": {
    "cell_id": "cb69618237e041e5afc10a3217b03d78",
    "deepnote_cell_type": "markdown"
   },
   "source": [
    "## The Game\n",
    "\n",
    "The game class, defined in `text_adventures.games`:\n",
    "\n",
    "- list of characters, one designated as player\n",
    "- all locations in the game\n",
    "- special function to determine if game has been won\n",
    "- functions for saving and loading game states, which we'll see later.\n",
    "- a game loop that runs the game, interacting with the user via commands\n",
    "\n",
    "To create our fishing game, we will subclass `Game` and define the `is_won` function to check when the game is won. In this case, the player starts out hungry, shown by calling `set_property` on the player."
   ]
  },
  {
   "cell_type": "code",
   "execution_count": 9,
   "metadata": {
    "cell_id": "948965920c3d4d61b41d9ea53c69300f",
    "deepnote_cell_type": "code"
   },
   "outputs": [],
   "source": [
    "class FishingGame(games.Game):\n",
    "    def __init__(\n",
    "        self, start_at: things.Location, player: things.Character, characters=None,\n",
    "        custom_actions=None\n",
    "    ):\n",
    "        super().__init__(start_at, player, characters=characters, custom_actions=custom_actions)\n",
    "        self.player.set_property(\"is_hungry\", True)\n",
    "\n",
    "    def is_won(self) -> bool:\n",
    "        \"\"\" \n",
    "        Checks whether the player has won the game.  \n",
    "        For the fishing mini game, this means that the player is no longer hungry.\n",
    "        \"\"\"\n",
    "        if not self.player.get_property(\"is_hungry\"):\n",
    "            self.parser.ok(\"You are no longer hungry. You win!\")\n",
    "            return True\n",
    "        else:\n",
    "            return False"
   ]
  },
  {
   "cell_type": "markdown",
   "metadata": {
    "cell_id": "8cfd11fb48ca45eeb60ebf0beeb054cc",
    "deepnote_cell_type": "markdown"
   },
   "source": [
    "## Commands\n",
    "\n",
    "In text adventure games the user types in simple natural language commands to interact with the game environment. That text is parsed for meaning and actions may or may not take place as a result.\n",
    "\n",
    "One of the challenges for the parser is mapping the language to corresponding components of the game. Classic text adventure games use simple two word commands, eg. _go east_ or _get pole_.\n",
    "\n",
    "In the next section, you will see five commands that will guide you through our game."
   ]
  },
  {
   "cell_type": "markdown",
   "metadata": {
    "cell_id": "60f0e9e3f7b9441ba51ff9a8125d8b26",
    "deepnote_cell_type": "markdown"
   },
   "source": [
    "## Let's Play!\n",
    "\n",
    "*Behold, as a magestic prompt appears!*\n",
    "\n",
    "You can play through the whole game with the following commands:\n",
    "\n",
    "1. take pole\n",
    "2. go out\n",
    "3. south\n",
    "4. catch fish with pole\n",
    "5. eat fish"
   ]
  },
  {
   "cell_type": "code",
   "execution_count": 10,
   "metadata": {
    "cell_id": "38f6a56c78bd4ba28886e0d8f736eb1e",
    "deepnote_cell_type": "code"
   },
   "outputs": [
    {
     "name": "stdout",
     "output_type": "stream",
     "text": [
      "You are standing in a small cottage.\n",
      "Exits:\n",
      "Out to Garden Path\n",
      "\n",
      "You see:\n",
      " * a fishing pole\n",
      " * a poisonous potion\n",
      "        drink potion\n",
      "\n",
      "\n",
      "I'm not sure what you want to do.\n",
      "The player got the pole.\n",
      "You are standing on a lush garden path. There is a cottage here.\n",
      "Exits:\n",
      "In to Cottage\n",
      "South to Fishing Pond\n",
      "East to Cliff\n",
      "\n",
      "You see:\n",
      " * a rosebush\n",
      "        pick rose\n",
      "\n",
      "\n",
      "You are at the edge of a small fishing pond.\n",
      "Exits:\n",
      "North to Garden Path\n",
      "\n",
      "You see:\n",
      " * a small fishing pond\n",
      "        catch fish\n",
      "        catch fish with pole\n",
      "\n",
      "\n",
      "The player reaches into the pond and tries to catch a fish with their hands, but\n",
      "the fish are too fast.\n",
      "You don't have it.\n",
      "The player reaches into the pond and tries to catch a fish with their hands, but\n",
      "the fish are too fast.\n",
      "The player dips their hook into the pond and catches a fish\n",
      "The player eats the fish. It tastes disgusting! It's raw! And definitely not\n",
      "sashimi-grade!\n",
      "You are no longer hungry. You win!\n"
     ]
    }
   ],
   "source": [
    "game = FishingGame(cottage, player)\n",
    "\n",
    "game.game_loop()"
   ]
  },
  {
   "cell_type": "markdown",
   "metadata": {
    "cell_id": "e7cfb06113c2431c82776e5af8f6e10d",
    "deepnote_cell_type": "markdown"
   },
   "source": [
    "### Visualize Game\n",
    "\n",
    "One way of conceptualizing our games is as a directed graph, where nodes are locations connected via directed arcs.  We can vizualize our game as a directed graph."
   ]
  },
  {
   "cell_type": "code",
   "execution_count": 11,
   "metadata": {
    "cell_id": "bd81cf1145cf46c8a0bd21e133c14af5",
    "deepnote_cell_type": "code"
   },
   "outputs": [
    {
     "data": {
      "image/svg+xml": [
       "<?xml version=\"1.0\" encoding=\"UTF-8\" standalone=\"no\"?>\n",
       "<!DOCTYPE svg PUBLIC \"-//W3C//DTD SVG 1.1//EN\"\n",
       " \"http://www.w3.org/Graphics/SVG/1.1/DTD/svg11.dtd\">\n",
       "<!-- Generated by graphviz version 13.1.2 (20250808.2320)\n",
       " -->\n",
       "<!-- Pages: 1 -->\n",
       "<svg width=\"946pt\" height=\"424pt\"\n",
       " viewBox=\"0.00 0.00 946.00 424.00\" xmlns=\"http://www.w3.org/2000/svg\" xmlns:xlink=\"http://www.w3.org/1999/xlink\">\n",
       "<g id=\"graph0\" class=\"graph\" transform=\"scale(1 1) rotate(0) translate(4 420.13)\">\n",
       "<polygon fill=\"white\" stroke=\"none\" points=\"-4,4 -4,-420.13 942.15,-420.13 942.15,4 -4,4\"/>\n",
       "<!-- Fishing Pond -->\n",
       "<g id=\"node1\" class=\"node\">\n",
       "<title>Fishing Pond</title>\n",
       "<ellipse fill=\"#b2dfee\" stroke=\"#b2dfee\" cx=\"493.26\" cy=\"-351.07\" rx=\"181.02\" ry=\"65.05\"/>\n",
       "<text xml:space=\"preserve\" text-anchor=\"start\" x=\"455.01\" y=\"-380.77\" font-family=\"Times,serif\" font-weight=\"bold\" font-size=\"14.00\">Fishing Pond</text>\n",
       "<text xml:space=\"preserve\" text-anchor=\"start\" x=\"373.26\" y=\"-366.77\" font-family=\"Times,serif\" font-size=\"14.00\">You are at the edge of a small fishing pond.</text>\n",
       "<text xml:space=\"preserve\" text-anchor=\"start\" x=\"411.89\" y=\"-352.77\" font-family=\"Times,serif\" font-size=\"14.00\">You see: a small fishing pond</text>\n",
       "<text xml:space=\"preserve\" text-anchor=\"start\" x=\"467.01\" y=\"-338.77\" font-family=\"Times,serif\" font-style=\"italic\" font-size=\"14.00\">catch fish</text>\n",
       "<text xml:space=\"preserve\" text-anchor=\"start\" x=\"438.14\" y=\"-324.77\" font-family=\"Times,serif\" font-style=\"italic\" font-size=\"14.00\">catch fish with pole</text>\n",
       "<text xml:space=\"preserve\" text-anchor=\"start\" x=\"544.64\" y=\"-324.77\" font-family=\"Times,serif\" font-size=\"14.00\"> </text>\n",
       "<text xml:space=\"preserve\" text-anchor=\"start\" x=\"431.76\" y=\"-310.77\" font-family=\"Times,serif\" font-size=\"14.00\">Characters: The player</text>\n",
       "</g>\n",
       "<!-- Garden Path -->\n",
       "<g id=\"node2\" class=\"node\">\n",
       "<title>Garden Path</title>\n",
       "<ellipse fill=\"#b2dfee\" stroke=\"#b2dfee\" cx=\"493.26\" cy=\"-188.26\" rx=\"256.86\" ry=\"45.25\"/>\n",
       "<text xml:space=\"preserve\" text-anchor=\"start\" x=\"455.39\" y=\"-203.96\" font-family=\"Times,serif\" font-weight=\"bold\" font-size=\"14.00\">Garden Path</text>\n",
       "<text xml:space=\"preserve\" text-anchor=\"start\" x=\"319.64\" y=\"-189.96\" font-family=\"Times,serif\" font-size=\"14.00\">You are standing on a lush garden path. There is a cottage here.</text>\n",
       "<text xml:space=\"preserve\" text-anchor=\"start\" x=\"438.89\" y=\"-175.96\" font-family=\"Times,serif\" font-size=\"14.00\">You see: a rosebush</text>\n",
       "<text xml:space=\"preserve\" text-anchor=\"start\" x=\"466.64\" y=\"-161.96\" font-family=\"Times,serif\" font-style=\"italic\" font-size=\"14.00\">pick rose</text>\n",
       "<text xml:space=\"preserve\" text-anchor=\"start\" x=\"516.14\" y=\"-161.96\" font-family=\"Times,serif\" font-size=\"14.00\"> </text>\n",
       "</g>\n",
       "<!-- Fishing Pond&#45;&gt;Garden Path -->\n",
       "<g id=\"edge1\" class=\"edge\">\n",
       "<title>Fishing Pond&#45;&gt;Garden Path</title>\n",
       "<path fill=\"none\" stroke=\"black\" d=\"M468.15,-286.18C466.09,-274.69 465.54,-262.79 467.76,-251.52 468.21,-249.24 468.74,-246.93 469.35,-244.62\"/>\n",
       "<polygon fill=\"black\" stroke=\"black\" points=\"472.62,-245.88 472.17,-235.3 465.92,-243.85 472.62,-245.88\"/>\n",
       "<text xml:space=\"preserve\" text-anchor=\"middle\" x=\"483.51\" y=\"-254.72\" font-family=\"Times,serif\" font-size=\"14.00\">North</text>\n",
       "</g>\n",
       "<!-- Garden Path&#45;&gt;Fishing Pond -->\n",
       "<g id=\"edge3\" class=\"edge\">\n",
       "<title>Garden Path&#45;&gt;Fishing Pond</title>\n",
       "<path fill=\"none\" stroke=\"black\" d=\"M498.07,-233.78C498.56,-239.73 498.98,-245.77 499.26,-251.52 499.62,-258.94 499.68,-266.67 499.54,-274.4\"/>\n",
       "<polygon fill=\"black\" stroke=\"black\" points=\"496.05,-274.06 499.25,-284.16 503.05,-274.27 496.05,-274.06\"/>\n",
       "<text xml:space=\"preserve\" text-anchor=\"middle\" x=\"515.36\" y=\"-254.72\" font-family=\"Times,serif\" font-size=\"14.00\">South</text>\n",
       "</g>\n",
       "<!-- Cottage -->\n",
       "<g id=\"node3\" class=\"node\">\n",
       "<title>Cottage</title>\n",
       "<ellipse fill=\"#b2dfee\" stroke=\"#b2dfee\" cx=\"150.26\" cy=\"-45.25\" rx=\"150.26\" ry=\"45.25\"/>\n",
       "<text xml:space=\"preserve\" text-anchor=\"start\" x=\"127.76\" y=\"-60.95\" font-family=\"Times,serif\" font-weight=\"bold\" font-size=\"14.00\">Cottage</text>\n",
       "<text xml:space=\"preserve\" text-anchor=\"start\" x=\"52.01\" y=\"-46.95\" font-family=\"Times,serif\" font-size=\"14.00\">You are standing in a small cottage.</text>\n",
       "<text xml:space=\"preserve\" text-anchor=\"start\" x=\"73.39\" y=\"-32.95\" font-family=\"Times,serif\" font-size=\"14.00\">You see: a poisonous potion</text>\n",
       "<text xml:space=\"preserve\" text-anchor=\"start\" x=\"115.01\" y=\"-18.95\" font-family=\"Times,serif\" font-style=\"italic\" font-size=\"14.00\">drink potion</text>\n",
       "<text xml:space=\"preserve\" text-anchor=\"start\" x=\"181.76\" y=\"-18.95\" font-family=\"Times,serif\" font-size=\"14.00\"> </text>\n",
       "</g>\n",
       "<!-- Garden Path&#45;&gt;Cottage -->\n",
       "<g id=\"edge2\" class=\"edge\">\n",
       "<title>Garden Path&#45;&gt;Cottage</title>\n",
       "<path fill=\"none\" stroke=\"black\" d=\"M393.59,-146.29C347.99,-127.54 294.12,-105.4 248.67,-86.71\"/>\n",
       "<polygon fill=\"black\" stroke=\"black\" points=\"250.19,-83.55 239.61,-82.99 247.53,-90.03 250.19,-83.55\"/>\n",
       "<text xml:space=\"preserve\" text-anchor=\"middle\" x=\"337.67\" y=\"-111.71\" font-family=\"Times,serif\" font-size=\"14.00\">In</text>\n",
       "</g>\n",
       "<!-- Cliff -->\n",
       "<g id=\"node4\" class=\"node\">\n",
       "<title>Cliff</title>\n",
       "<ellipse fill=\"#b2dfee\" stroke=\"#b2dfee\" cx=\"628.26\" cy=\"-45.25\" rx=\"309.89\" ry=\"35.36\"/>\n",
       "<text xml:space=\"preserve\" text-anchor=\"start\" x=\"615.14\" y=\"-53.95\" font-family=\"Times,serif\" font-weight=\"bold\" font-size=\"14.00\">Cliff</text>\n",
       "<text xml:space=\"preserve\" text-anchor=\"start\" x=\"417.14\" y=\"-39.95\" font-family=\"Times,serif\" font-size=\"14.00\">There is a steep cliff here. You fall off the cliff and lose the game. THE END</text>\n",
       "<text xml:space=\"preserve\" text-anchor=\"start\" x=\"626.39\" y=\"-25.95\" font-family=\"Times,serif\" font-size=\"14.00\"> </text>\n",
       "</g>\n",
       "<!-- Garden Path&#45;&gt;Cliff -->\n",
       "<g id=\"edge4\" class=\"edge\">\n",
       "<title>Garden Path&#45;&gt;Cliff</title>\n",
       "<path fill=\"none\" stroke=\"black\" d=\"M529.01,-143.06C538.78,-131.55 549.56,-119.35 560.01,-108.51 566.49,-101.79 573.55,-94.9 580.6,-88.28\"/>\n",
       "<polygon fill=\"black\" stroke=\"black\" points=\"582.77,-91.04 587.72,-81.68 578,-85.91 582.77,-91.04\"/>\n",
       "<text xml:space=\"preserve\" text-anchor=\"middle\" x=\"571.64\" y=\"-111.71\" font-family=\"Times,serif\" font-size=\"14.00\">East</text>\n",
       "</g>\n",
       "<!-- Cottage&#45;&gt;Garden Path -->\n",
       "<g id=\"edge5\" class=\"edge\">\n",
       "<title>Cottage&#45;&gt;Garden Path</title>\n",
       "<path fill=\"none\" stroke=\"black\" d=\"M259.46,-76.73C288.4,-85.9 319.35,-96.7 347.26,-108.51 368.13,-117.34 389.97,-128.19 410.21,-138.98\"/>\n",
       "<polygon fill=\"black\" stroke=\"black\" points=\"408.52,-142.04 418.98,-143.71 411.84,-135.88 408.52,-142.04\"/>\n",
       "<text xml:space=\"preserve\" text-anchor=\"middle\" x=\"390.4\" y=\"-111.71\" font-family=\"Times,serif\" font-size=\"14.00\">Out</text>\n",
       "</g>\n",
       "<!-- Cliff&#45;&gt;Garden Path -->\n",
       "<g id=\"edge6\" class=\"edge\">\n",
       "<title>Cliff&#45;&gt;Garden Path</title>\n",
       "<path fill=\"none\" stroke=\"black\" d=\"M612.68,-81.03C605.11,-95.61 595.08,-112.13 583.26,-125.01 579.43,-129.19 575.26,-133.24 570.89,-137.14\"/>\n",
       "<polygon fill=\"black\" stroke=\"black\" points=\"568.81,-134.32 563.44,-143.46 573.33,-139.66 568.81,-134.32\"/>\n",
       "<text xml:space=\"preserve\" text-anchor=\"middle\" x=\"609.45\" y=\"-111.71\" font-family=\"Times,serif\" font-size=\"14.00\">West</text>\n",
       "</g>\n",
       "</g>\n",
       "</svg>\n"
      ],
      "text/plain": [
       "<graphviz.graphs.Digraph at 0x10c4eef60>"
      ]
     },
     "execution_count": 11,
     "metadata": {},
     "output_type": "execute_result"
    }
   ],
   "source": [
    "from text_adventure_games.viz import Visualizer\n",
    "viz = Visualizer(game)\n",
    "graph = viz.visualize()\n",
    "graph"
   ]
  },
  {
   "cell_type": "markdown",
   "metadata": {
    "cell_id": "cc05b143727149ae8d48f3de24851490",
    "deepnote_cell_type": "markdown"
   },
   "source": [
    "## Action\n",
    "\n",
    "You can define your own custom actions for the game. Actions consist of two of three parts:\n",
    "\n",
    "* the intitialization: which parses the arguments\n",
    "* the preconditions: which determine if the action can be applied\n",
    "* the effect: which change the state of the game when the action is successfully applied"
   ]
  },
  {
   "cell_type": "code",
   "execution_count": null,
   "metadata": {
    "cell_id": "025d599690fc42398e603bda6a93b726",
    "deepnote_cell_type": "code"
   },
   "outputs": [],
   "source": [
    "class Cook(actions.Action):\n",
    "    # Updating a copy of these class attributes gotten from the parent class \"Action\"\n",
    "    ACTION_NAME = 'cook'\n",
    "    ACTION_DESCRIPTION = 'Cook some food'\n",
    "\n",
    "    def __init__(self, game, command):\n",
    "        super().__init__(game)\n",
    "        self.command = command\n",
    "        self.character = self.parser.get_character(command)\n",
    "        self.food = self.parser.match_item(\n",
    "            command, self.parser.get_items_in_scope(self.character)\n",
    "        )\n",
    "\n",
    "    def check_preconditions(self) -> bool:\n",
    "        if not self.food:\n",
    "            self.parser.fail(\"No food found\")\n",
    "        if not self.food.get_property(\"is_food\"):\n",
    "            self.parser.fail(f\"{self.food.name} is not food\")\n",
    "            return False\n",
    "        return True\n",
    "\n",
    "    def apply_effects(self):\n",
    "        self.food.set_property(\"taste\", \"deliciously cooked\")\n",
    "        self.parser.ok(f\"You cooked the {self.food.name}\")\n"
   ]
  },
  {
   "cell_type": "markdown",
   "metadata": {
    "cell_id": "7c3ddb9bece8452f98f5e23a83995569",
    "deepnote_cell_type": "markdown"
   },
   "source": [
    "### Simple Cooking Game"
   ]
  },
  {
   "cell_type": "code",
   "execution_count": null,
   "metadata": {
    "cell_id": "9d43dbf069284cdc8030468faaeaa39f",
    "deepnote_cell_type": "code"
   },
   "outputs": [],
   "source": [
    "fishing_pond = things.Location(\n",
    "    \"Fishing Pond\",\n",
    "    \"You are at the edge of a small fishing pond.\"\n",
    ")\n",
    "\n",
    "pond = things.Item(\n",
    "    \"pond\",\n",
    "    \"a small fishing pond\",\n",
    "    \"THERE ARE FISH IN THE POND.\",\n",
    ")\n",
    "\n",
    "pond.set_property(\"gettable\", False)\n",
    "pond.set_property(\"has_fish\", True)\n",
    "pond.add_command_hint(\"catch fish\")\n",
    "pond.add_command_hint(\"catch fish with pole\")\n",
    "fishing_pond.add_item(pond)\n",
    "\n",
    "\n",
    "player = things.Character(\n",
    "    name=\"The player\",\n",
    "    description=\"You are a simple peasant destined for greatness.\",\n",
    "    persona=\"I am on an adventure.\",\n",
    ")\n",
    "\n",
    "fishing_pole = things.Item(\n",
    "    \"pole\",\n",
    "    \"a fishing pole\",\n",
    "    \"A SIMPLE FISHING POLE.\",\n",
    ")\n",
    "player.add_to_inventory(fishing_pole)\n"
   ]
  },
  {
   "cell_type": "markdown",
   "metadata": {
    "cell_id": "6570f631e58c496aa99c2ec850dd7b6c",
    "deepnote_cell_type": "markdown"
   },
   "source": [
    "### Using Custom Action in a Game\n",
    "\n",
    "To use custom actions, pass them as arguments to the game's constructor."
   ]
  },
  {
   "cell_type": "code",
   "execution_count": 14,
   "metadata": {
    "cell_id": "fdb0c08f27d94b7787f451d68c68a687",
    "deepnote_cell_type": "code"
   },
   "outputs": [
    {
     "name": "stdout",
     "output_type": "stream",
     "text": [
      "You are at the edge of a small fishing pond.\n",
      "\n",
      "You see:\n",
      " * a small fishing pond\n",
      "        catch fish\n",
      "        catch fish with pole\n",
      "\n",
      "\n",
      "I'm not sure what you want to do.\n",
      "I'm not sure what you want to do.\n"
     ]
    },
    {
     "ename": "KeyboardInterrupt",
     "evalue": "Interrupted by user",
     "output_type": "error",
     "traceback": [
      "\u001b[31m---------------------------------------------------------------------------\u001b[39m",
      "\u001b[31mKeyboardInterrupt\u001b[39m                         Traceback (most recent call last)",
      "\u001b[36mCell\u001b[39m\u001b[36m \u001b[39m\u001b[32mIn[14]\u001b[39m\u001b[32m, line 3\u001b[39m\n\u001b[32m      1\u001b[39m game = FishingGame(fishing_pond, player, custom_actions=[Cook])\n\u001b[32m----> \u001b[39m\u001b[32m3\u001b[39m \u001b[43mgame\u001b[49m\u001b[43m.\u001b[49m\u001b[43mgame_loop\u001b[49m\u001b[43m(\u001b[49m\u001b[43m)\u001b[49m\n",
      "\u001b[36mFile \u001b[39m\u001b[32m~/Downloads/Study/UMBC SEM-3/Interactive Fiction-691/Homework /Homework-0/Action Castle/text_adventure_games/games.py:94\u001b[39m, in \u001b[36mGame.game_loop\u001b[39m\u001b[34m(self)\u001b[39m\n\u001b[32m     91\u001b[39m \u001b[38;5;28mself\u001b[39m.parser.parse_command(\u001b[33m\"\u001b[39m\u001b[33mlook\u001b[39m\u001b[33m\"\u001b[39m)\n\u001b[32m     93\u001b[39m \u001b[38;5;28;01mwhile\u001b[39;00m \u001b[38;5;28;01mTrue\u001b[39;00m:\n\u001b[32m---> \u001b[39m\u001b[32m94\u001b[39m     command = \u001b[38;5;28;43minput\u001b[39;49m\u001b[43m(\u001b[49m\u001b[33;43m\"\u001b[39;49m\u001b[38;5;130;43;01m\\n\u001b[39;49;00m\u001b[33;43m> \u001b[39;49m\u001b[33;43m\"\u001b[39;49m\u001b[43m)\u001b[49m\n\u001b[32m     95\u001b[39m     \u001b[38;5;28mself\u001b[39m.parser.parse_command(command)\n\u001b[32m     96\u001b[39m     \u001b[38;5;28;01mif\u001b[39;00m \u001b[38;5;28mself\u001b[39m.is_game_over():\n",
      "\u001b[36mFile \u001b[39m\u001b[32m~/Downloads/Study/UMBC SEM-3/Interactive Fiction-691/Homework /Homework-0/Action Castle/gameEnv/lib/python3.12/site-packages/ipykernel/kernelbase.py:1275\u001b[39m, in \u001b[36mKernel.raw_input\u001b[39m\u001b[34m(self, prompt)\u001b[39m\n\u001b[32m   1273\u001b[39m     msg = \u001b[33m\"\u001b[39m\u001b[33mraw_input was called, but this frontend does not support input requests.\u001b[39m\u001b[33m\"\u001b[39m\n\u001b[32m   1274\u001b[39m     \u001b[38;5;28;01mraise\u001b[39;00m StdinNotImplementedError(msg)\n\u001b[32m-> \u001b[39m\u001b[32m1275\u001b[39m \u001b[38;5;28;01mreturn\u001b[39;00m \u001b[38;5;28;43mself\u001b[39;49m\u001b[43m.\u001b[49m\u001b[43m_input_request\u001b[49m\u001b[43m(\u001b[49m\n\u001b[32m   1276\u001b[39m \u001b[43m    \u001b[49m\u001b[38;5;28;43mstr\u001b[39;49m\u001b[43m(\u001b[49m\u001b[43mprompt\u001b[49m\u001b[43m)\u001b[49m\u001b[43m,\u001b[49m\n\u001b[32m   1277\u001b[39m \u001b[43m    \u001b[49m\u001b[38;5;28;43mself\u001b[39;49m\u001b[43m.\u001b[49m\u001b[43m_parent_ident\u001b[49m\u001b[43m[\u001b[49m\u001b[33;43m\"\u001b[39;49m\u001b[33;43mshell\u001b[39;49m\u001b[33;43m\"\u001b[39;49m\u001b[43m]\u001b[49m\u001b[43m,\u001b[49m\n\u001b[32m   1278\u001b[39m \u001b[43m    \u001b[49m\u001b[38;5;28;43mself\u001b[39;49m\u001b[43m.\u001b[49m\u001b[43mget_parent\u001b[49m\u001b[43m(\u001b[49m\u001b[33;43m\"\u001b[39;49m\u001b[33;43mshell\u001b[39;49m\u001b[33;43m\"\u001b[39;49m\u001b[43m)\u001b[49m\u001b[43m,\u001b[49m\n\u001b[32m   1279\u001b[39m \u001b[43m    \u001b[49m\u001b[43mpassword\u001b[49m\u001b[43m=\u001b[49m\u001b[38;5;28;43;01mFalse\u001b[39;49;00m\u001b[43m,\u001b[49m\n\u001b[32m   1280\u001b[39m \u001b[43m\u001b[49m\u001b[43m)\u001b[49m\n",
      "\u001b[36mFile \u001b[39m\u001b[32m~/Downloads/Study/UMBC SEM-3/Interactive Fiction-691/Homework /Homework-0/Action Castle/gameEnv/lib/python3.12/site-packages/ipykernel/kernelbase.py:1320\u001b[39m, in \u001b[36mKernel._input_request\u001b[39m\u001b[34m(self, prompt, ident, parent, password)\u001b[39m\n\u001b[32m   1317\u001b[39m \u001b[38;5;28;01mexcept\u001b[39;00m \u001b[38;5;167;01mKeyboardInterrupt\u001b[39;00m:\n\u001b[32m   1318\u001b[39m     \u001b[38;5;66;03m# re-raise KeyboardInterrupt, to truncate traceback\u001b[39;00m\n\u001b[32m   1319\u001b[39m     msg = \u001b[33m\"\u001b[39m\u001b[33mInterrupted by user\u001b[39m\u001b[33m\"\u001b[39m\n\u001b[32m-> \u001b[39m\u001b[32m1320\u001b[39m     \u001b[38;5;28;01mraise\u001b[39;00m \u001b[38;5;167;01mKeyboardInterrupt\u001b[39;00m(msg) \u001b[38;5;28;01mfrom\u001b[39;00m\u001b[38;5;250m \u001b[39m\u001b[38;5;28;01mNone\u001b[39;00m\n\u001b[32m   1321\u001b[39m \u001b[38;5;28;01mexcept\u001b[39;00m \u001b[38;5;167;01mException\u001b[39;00m:\n\u001b[32m   1322\u001b[39m     \u001b[38;5;28mself\u001b[39m.log.warning(\u001b[33m\"\u001b[39m\u001b[33mInvalid Message:\u001b[39m\u001b[33m\"\u001b[39m, exc_info=\u001b[38;5;28;01mTrue\u001b[39;00m)\n",
      "\u001b[31mKeyboardInterrupt\u001b[39m: Interrupted by user"
     ]
    }
   ],
   "source": [
    "game = FishingGame(fishing_pond, player, custom_actions=[Cook])\n",
    "\n",
    "game.game_loop()"
   ]
  },
  {
   "cell_type": "markdown",
   "metadata": {
    "created_in_deepnote_cell": true,
    "deepnote_cell_type": "markdown"
   },
   "source": [
    "<a style='text-decoration:none;line-height:16px;display:flex;color:#5B5B62;padding:10px;justify-content:end;' href='https://deepnote.com?utm_source=created-in-deepnote-cell&projectId=b16fb3c8-85ab-4463-b29e-8658c8738191' target=\"_blank\">\n",
    "<img alt='Created in deepnote.com' style='display:inline;max-height:16px;margin:0px;margin-right:7.5px;' src='data:image/svg+xml;base64,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' > </img>\n",
    "Created in <span style='font-weight:600;margin-left:4px;'>Deepnote</span></a>"
   ]
  }
 ],
 "metadata": {
  "deepnote_notebook_id": "b2c340aef01b4099a790d2501a523144",
  "deepnote_persisted_session": {
   "createdAt": "2025-09-02T20:21:26.331Z"
  },
  "kernelspec": {
   "display_name": "gameEnv",
   "language": "python",
   "name": "python3"
  },
  "language_info": {
   "codemirror_mode": {
    "name": "ipython",
    "version": 3
   },
   "file_extension": ".py",
   "mimetype": "text/x-python",
   "name": "python",
   "nbconvert_exporter": "python",
   "pygments_lexer": "ipython3",
   "version": "3.12.7"
  }
 },
 "nbformat": 4,
 "nbformat_minor": 0
}
